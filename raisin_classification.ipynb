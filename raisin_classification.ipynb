{
 "cells": [
  {
   "cell_type": "markdown",
   "id": "ee6a1ad6-8a59-440c-af04-f554715bf32a",
   "metadata": {},
   "source": [
    "![](raisin-banner.jpeg)"
   ]
  },
  {
   "cell_type": "markdown",
   "id": "268f3d76-b81d-4537-8a84-229b57464588",
   "metadata": {},
   "source": [
    "# Raisin Classification"
   ]
  },
  {
   "cell_type": "code",
   "execution_count": null,
   "id": "9628c8eb-ac65-40a5-b972-9c77c536d966",
   "metadata": {},
   "outputs": [],
   "source": []
  },
  {
   "cell_type": "code",
   "execution_count": null,
   "id": "2a5e3aad-5054-4445-886a-06a5d317e4ee",
   "metadata": {},
   "outputs": [],
   "source": []
  }
 ],
 "metadata": {
  "kernelspec": {
   "display_name": "Python 3 (ipykernel)",
   "language": "python",
   "name": "python3"
  },
  "language_info": {
   "codemirror_mode": {
    "name": "ipython",
    "version": 3
   },
   "file_extension": ".py",
   "mimetype": "text/x-python",
   "name": "python",
   "nbconvert_exporter": "python",
   "pygments_lexer": "ipython3",
   "version": "3.9.7"
  }
 },
 "nbformat": 4,
 "nbformat_minor": 5
}
